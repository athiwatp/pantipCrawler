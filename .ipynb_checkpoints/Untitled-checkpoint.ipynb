{
 "cells": [
  {
   "cell_type": "code",
   "execution_count": 2,
   "metadata": {
    "collapsed": false
   },
   "outputs": [
    {
     "name": "stdout",
     "output_type": "stream",
     "text": [
      "/sr?r=FxTPCYAQH_pfLHuyW_K4ybC0b1B7GLPkuKp-clgIqFR4fQoEoymOO31ws6GTywZLaOPvYUBeaSdo3sgks7wXMib8uDefrg5Lq8\n",
      "/sr?r=vt9_sTTk4hVvqGrZt-KseSCpZRt8ZgU3S9Pn-AzCxdSpeAnAAVM-cHNdrh9YAjySHO8pv5pkTHZPzyRn1Qguv4XieT6FRWVZMgz584d\n",
      "/sr?r=YvlMoQMPDFdRIqg3L83dduskXSXFEAHEGv8oO324g7ZRl5ymHGw89gCbXpPsfNYmelAsNKx_TRGbwSD2XRxAj5mP2EaR5HBa2g\n",
      "/sr?r=FiHpDbG-cqA1y2MvEFzbdJXNUqconF4jgjh-VW4V8dPfM4zWRkJRxD6bj2B3Ev5Mcl73NetZQfewrUVwT3N9ULJZYKgOnk65h8\n",
      "/sr?r=XvScqPTcQN9jv_-aQTyb0U9_bERxQto3HqgQC8CoRL7HnBATC3OtUgWHUeKo3J5KlTRfm_5RGj2Jc4Sy4Pym5UZXRqjflVSXQj\n",
      "/sr?r=Vu-Fbt3T2EnBq7DTnO4TwEp1jnlXrmUkHEx4AOQx9ptk2Ff6gONM6Y3rfnWqTWJZ94n39JPK4wo8YOcmjf8Rh-y9TMqBuEqSEJgLKO_\n",
      "/sr?r=fUKTZ4Z1ew-m6zLmo9QftuMWV1sQ9rwCouiTcLyKcDbgV8-fiNK-gf1pphw2WcW6Z9PQrmavApnCUtvhYZny73ExaC_DwNC708\n",
      "/sr?r=25CMEc7H9dsiEfKN6VPGvJIH8NcR0aFYI3qAbp6JeFtChKlE-qYrkK5ny55a2KF0i_qCAcBmlYviFmB1m8G0RGVtSXThq0CTTRjONjuO\n",
      "/sr?r=nD_C2-8nfpPWc7kINEfQqYbiwUDRklDiaksxgIeXwL2afR6b25bz0sBX-V8ANx2_sRj9ZghBY4rH9mFL5WYhB1mg4jg8VEieY-\n",
      "/sr?r=8R3Kl2CCYqE8HbfFJqbGFzxL1TygTvdzlTjcIjOWrgypqFAn03XESxvFrRkGCpFwMHUxVfy-k-JHFs3rUdmWYNf6vvjCbAHn9j\n",
      "/sr?r=U-5jzi80_oyK4ppIDF6sAreWXcZg1Eql_MUinC8oeHknw3l8Rg-gJiA8-Ryf0WVLwy6Jud385AoXY4e6hmkYwjTrMqy5i7ooSkZQLjq\n",
      "/sr?r=lRxlr003fT67lfBnDpNOr3Ep4HkjUVQqOyeBeJkZTdK7nYhlgNUftjxqxZtC_wVqWoA71jmIzqrZjRA_89V7zV-Wu3B227V8K8\n",
      "/sr?r=Q8TWEwq7_wVbRoCPSXyCo_-KJhJqwI0va6YbBpVzlVDaJT_-oIxqb4aXHSuu7C7u_xo6jb2Ra9Q9CKnCsICoHKu3Wt1K5B6RZL47jyj\n",
      "/sr?r=yJsI3lbhN4nhbwrDYtUvLv8Q4xkaKQfbv4CRJX8ep-sZBLcNfJoGrvostabNyCBIzaiGCZKwFKO4FxI_a9br5tdTSfljt1Tefc3AW1G\n",
      "/sr?r=ipucoa8-YmqPmEBYllIcMKjzefMqLgyxy--sZWmH86WUzI07s4nQGt3jdboP-gtiGNpFj-Abcjjtf2daBZyeSD-6ICgTD_yR5akmKDq\n"
     ]
    }
   ],
   "source": [
    "import pandas as pd\n",
    "import requests as req\n",
    "from bs4 import BeautifulSoup\n",
    "\n",
    "base_url = \"http://search.pantip.com\"\n",
    "search_url = \"/ss?s=a&nms=1&sa=Smart+Search&q=refinn\"\n",
    "\n",
    "search = req.get(''.join([base_url,search_url]))\n",
    "soup = BeautifulSoup(search.text)\n",
    "\n",
    "for link in soup.findAll('a'):\n",
    "    print link['href']"
   ]
  },
  {
   "cell_type": "code",
   "execution_count": null,
   "metadata": {
    "collapsed": true
   },
   "outputs": [],
   "source": []
  }
 ],
 "metadata": {
  "kernelspec": {
   "display_name": "Python 2",
   "language": "python",
   "name": "python2"
  },
  "language_info": {
   "codemirror_mode": {
    "name": "ipython",
    "version": 2
   },
   "file_extension": ".py",
   "mimetype": "text/x-python",
   "name": "python",
   "nbconvert_exporter": "python",
   "pygments_lexer": "ipython2",
   "version": "2.7.11"
  }
 },
 "nbformat": 4,
 "nbformat_minor": 0
}
